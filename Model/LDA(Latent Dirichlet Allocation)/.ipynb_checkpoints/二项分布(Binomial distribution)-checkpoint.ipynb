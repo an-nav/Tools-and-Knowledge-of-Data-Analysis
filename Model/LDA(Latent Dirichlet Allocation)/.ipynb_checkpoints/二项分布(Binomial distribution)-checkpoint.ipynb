{
 "cells": [
  {
   "cell_type": "markdown",
   "metadata": {},
   "source": [
    "# 二项分布(Binomial distribution)"
   ]
  },
  {
   "cell_type": "markdown",
   "metadata": {},
   "source": [
    "+ 参考wiki[二项分布](https://zh.wikipedia.org/wiki/%E4%BA%8C%E9%A0%85%E5%88%86%E4%BD%88)"
   ]
  },
  {
   "cell_type": "markdown",
   "metadata": {},
   "source": [
    "## 感性认识"
   ]
  },
  {
   "cell_type": "markdown",
   "metadata": {},
   "source": [
    "问题：如果一个硬币不均匀分布即正面的概率为0.6而反面的概率为0.4，我们用**1**表示正面**0**表示反面，那么抛10次硬币得到6次正面的概率是多少又如何计算呢？  \n",
    "答案：**0.251**  \n",
    "对于这种情况即*n*次独立的**\"是\"/“非”**实验中在**\"是\"**的概率为*p*而**“非”**的概率为*(1-p)*的情况下求出现*k*次**\"是\"**的概率就使用二项分布计算  \n"
   ]
  },
  {
   "cell_type": "markdown",
   "metadata": {},
   "source": [
    "## 二项分布"
   ]
  },
  {
   "cell_type": "markdown",
   "metadata": {},
   "source": [
    "### 概率密度函数  \n",
    "若变量*X*满足X~B(n, p)那么二项分布的概率密度函数为：  \n",
    "$$Binom(k|n,p)={n\\choose k}p^k(1-p)^{n-k}$$  \n",
    "其中:  \n",
    "*k*为**是**出现的的次数  \n",
    "*p*为**是**在独立试验中出现的概率  \n",
    "*n*为独立试验的次数  \n",
    "*${n\\choose k}$*为排列数即$C(n, k)$或$C_n^k$  \n",
    "回到最开始的问题要计算其答案带入公式即可  \n",
    "$$Binom(6|10,0.6)={10\\choose 6}0.6^{0.6}(1-0.6)^{10-6}=0.251$$   \n",
    "### 累计分布函数  \n",
    "二项分布的累计分布函数可以表示为：  \n",
    "$$F(x|n,p)=Pr(X\\leqslant x)=\\sum_{i=0}^{\\lfloor x\\rfloor}{n\\choose\\ i}p^i(1-p)^{n-i}$$  \n",
    "其中${\\lfloor x\\rfloor}$表示小于或等于$x$的最大整数，同理${\\lceil x\\rceil}$表示大于或等于$x$的最小整数  \n",
    "### 期望  \n",
    "$$E[x]=np$$\n",
    "### 方差  \n",
    "$$Var[x]=np(1-p)$$  \n",
    "### 协方差  \n",
    "如果有两个服从二项分布的随机变量X和Y，我们可以求它们的协方差。利用协方差的定义，当n = 1时我们有:  \n",
    "$$Cov(X,Y)=E(XY)-\\mu_x\\mu_y$$  \n",
    "第一项仅当X和Y都等于1时非零，而μX和μY分别为X = 1和Y = 1的概率。定义pB为X和Y都等于1的概率，便得到:  \n",
    "$$Cov(X,Y)=p_B-p_xp_y$$  \n",
    "对于n次独立的试验，我们便有:  \n",
    "$$Cov(X,Y)=n(p_B-p_xp_y)$$  \n",
    "如果X和Y是相同的变量，便化为上面的方差公式:  \n",
    "$$Cov(X,Y)=Var[x]=np(1-p)$$  \n",
    "### 二项分布的和  \n",
    "如果X ~ B(n, p)和Y ~ B(m, p)，且X和Y相互独立，那么X + Y也服从二项分布；它的分布为：  \n",
    "$$X+Y=B(n+m,p)$$"
   ]
  },
  {
   "cell_type": "code",
   "execution_count": null,
   "metadata": {},
   "outputs": [],
   "source": []
  }
 ],
 "metadata": {
  "kernelspec": {
   "display_name": "Python 3",
   "language": "python",
   "name": "python3"
  },
  "language_info": {
   "codemirror_mode": {
    "name": "ipython",
    "version": 3
   },
   "file_extension": ".py",
   "mimetype": "text/x-python",
   "name": "python",
   "nbconvert_exporter": "python",
   "pygments_lexer": "ipython3",
   "version": "3.7.3"
  }
 },
 "nbformat": 4,
 "nbformat_minor": 2
}
