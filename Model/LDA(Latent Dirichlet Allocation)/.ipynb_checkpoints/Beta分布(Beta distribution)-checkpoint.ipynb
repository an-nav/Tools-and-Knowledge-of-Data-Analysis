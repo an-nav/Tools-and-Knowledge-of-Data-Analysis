{
 "cells": [
  {
   "cell_type": "markdown",
   "metadata": {},
   "source": [
    "# Beta分布(Beta distribution)"
   ]
  },
  {
   "cell_type": "markdown",
   "metadata": {},
   "source": [
    "- 参考wiki[Beta分布](https://zh.wikipedia.org/wiki/%CE%92%E5%88%86%E5%B8%83)   \n",
    "- 参考知乎[Beta分布](https://www.zhihu.com/question/30269898?sort=created)\n",
    "- 参考CSDN[详细公式推导](https://www.cnblogs.com/coshaho/p/9658135.html)  \n",
    "  P.S: B分布,Beta分布,贝塔分布都是一个概念"
   ]
  },
  {
   "cell_type": "markdown",
   "metadata": {},
   "source": [
    "## 感性认识"
   ]
  },
  {
   "cell_type": "markdown",
   "metadata": {},
   "source": [
    "问题：在一个棒球击球手生涯中有一个非常重要的指标就是击球率，即挥棒打中求的概率，如果在知道这名选手过去生涯的**击中**和**丢失**两个数字的情况下能否预测其新赛季的击球率呢？  \n",
    "\n",
    "Beta分布就是可以用来解决这一类的问题，选手击球命中与否可以看做一系列的二项分布的总和，那么这些总和“加总”起来的表示就可以近似理解为Beta分布，即Beta分布本身是一个概率的分布"
   ]
  },
  {
   "cell_type": "markdown",
   "metadata": {},
   "source": [
    "## 概率密度函数  \n",
    "若变量X服从参数为$\\alpha$和$\\beta$的Beta分布这其概率密度函数可以表示为:  \n",
    "$$f(x|\\alpha,\\beta)=\\frac{\\Gamma(\\alpha+\\beta)}{\\Gamma(\\alpha)\\Gamma(\\beta)}x^{\\alpha-1}(1-x)^{\\beta-1}$$  \n",
    "其中:  \n",
    "$\\Gamma$表示伽马函数$\\Gamma(x)=(x-1)!$\n",
    "\n",
    "而$\\frac{\\Gamma(\\alpha+\\beta)}{\\Gamma(\\alpha)\\Gamma(\\beta)}$可以表示为Beta函数的导数即$\\frac{1}{B(\\alpha,\\beta)}$;$B(\\alpha,\\beta)$即为Beta函数  \n",
    "因此其概率密度函数可以写为：\n",
    "$$B(x|\\alpha,\\beta)=\\frac{1}{B(\\alpha,\\beta)}x^{\\alpha-1}(1-x)^{\\beta-1}$$\n",
    "\n",
    "## 累计分布函数  \n",
    "$$F(x|\\alpha,\\beta)=\\frac{B_x(\\alpha,\\beta)}{B(\\alpha,\\beta)}=I_x(\\alpha,\\beta)$$  \n",
    "其中:  \n",
    "其中$B_x(\\alpha,\\beta)$是不完全Βeta函数，$I_x(\\alpha,\\beta)$是正则不完全Beta函数。  \n",
    "\n",
    "## 期望  \n",
    "Beta分布的期望为：\n",
    "$$\\frac{\\alpha}{\\alpha+\\beta}$$  \n",
    "\n",
    "有了这些我们就能解决开头的问题了假设这么球员在之前一共集中了90球而未击中210球那么即$\\alpha=90,\\beta=210$那么他新赛季的击球率可以用期望来计算即$\\frac{90}{90+210}=0.3$  \n",
    "\n",
    "\n",
    "看起来没有啥用，不用知道Beta分布直接算也是这个数但是Beta分布的关键在于其和二项分布为共轭先验分布，就是Beta分布的后验分布可以作为下一次Beta分布的先验分布表示一下就是**先验分布+实验数据=后验分布**即:  \n",
    "$$Beta(p|x,y)+BinomCount(k,n-k)=Beta(p|x+k,y+n-k)$$\n",
    "用棒球的例子来说就是球员之前的数据是击中90次和未击中210次然后再新赛季他又击中了100球丢失了200球那么更具上述式子有  \n",
    "$$Beta(90,210)+BinomCount(100,200)=Beta(190,410)$$  \n",
    "那么依照新赛季的数据再去预测下一个赛季的话其期望$E=\\frac{190}{190+410}=0.317$会发现这个数小于直接用当前赛季统计数据得出的结果即0.333因为Beta考虑先验分布"
   ]
  },
  {
   "cell_type": "markdown",
   "metadata": {},
   "source": [
    "**这里只是粗略的描述或者说明一下Beta但其背后都是有严格数学推导可以从文章开头的网页中查看**"
   ]
  },
  {
   "cell_type": "code",
   "execution_count": null,
   "metadata": {},
   "outputs": [],
   "source": []
  }
 ],
 "metadata": {
  "kernelspec": {
   "display_name": "Python 3",
   "language": "python",
   "name": "python3"
  },
  "language_info": {
   "codemirror_mode": {
    "name": "ipython",
    "version": 3
   },
   "file_extension": ".py",
   "mimetype": "text/x-python",
   "name": "python",
   "nbconvert_exporter": "python",
   "pygments_lexer": "ipython3",
   "version": "3.7.3"
  }
 },
 "nbformat": 4,
 "nbformat_minor": 2
}
