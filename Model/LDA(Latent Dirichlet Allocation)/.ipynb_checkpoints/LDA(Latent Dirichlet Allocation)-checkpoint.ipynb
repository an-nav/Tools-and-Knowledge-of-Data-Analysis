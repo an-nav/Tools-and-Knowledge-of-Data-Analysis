{
 "cells": [
  {
   "cell_type": "markdown",
   "metadata": {},
   "source": [
    "[二项分布](http://localhost:8888/notebooks/Tools%20of%20Data%20Analysis/Statistics/%E4%BA%8C%E9%A1%B9%E5%88%86%E5%B8%83(Binomial%20distribution).ipynb)  \n",
    "[Beta分布](http://localhost:8888/notebooks/Tools%20of%20Data%20Analysis/Statistics/Beta%E5%88%86%E5%B8%83(Beta%20distribution).ipynb)"
   ]
  },
  {
   "cell_type": "code",
   "execution_count": null,
   "metadata": {},
   "outputs": [],
   "source": []
  }
 ],
 "metadata": {
  "kernelspec": {
   "display_name": "Python 3",
   "language": "python",
   "name": "python3"
  },
  "language_info": {
   "codemirror_mode": {
    "name": "ipython",
    "version": 3
   },
   "file_extension": ".py",
   "mimetype": "text/x-python",
   "name": "python",
   "nbconvert_exporter": "python",
   "pygments_lexer": "ipython3",
   "version": "3.7.3"
  }
 },
 "nbformat": 4,
 "nbformat_minor": 2
}
