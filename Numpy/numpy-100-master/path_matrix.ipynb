{
 "cells": [
  {
   "cell_type": "code",
   "execution_count": 1,
   "metadata": {},
   "outputs": [],
   "source": [
    "import numpy as np"
   ]
  },
  {
   "cell_type": "code",
   "execution_count": 136,
   "metadata": {},
   "outputs": [
    {
     "data": {
      "text/plain": [
       "array([0, 1, 1])"
      ]
     },
     "execution_count": 136,
     "metadata": {},
     "output_type": "execute_result"
    }
   ],
   "source": [
    "'structure array'\n",
    "\n",
    "path_tuple = ('50001', '50002', '50003','50004') # to do : 按照你的需求来生成这个path_tuple\n",
    "path_type={'names':path_tuple,\n",
    "           'formats':tuple(['i4']*len(path_tuple))} # '定义路径col索引'\n",
    "\n",
    "\n",
    "Z = np.array([(0, 0, 0, 0),(0, 0, 0,0),(0, 0,0,0)],   # to do : 按照你的需求来初始化这个0矩阵\n",
    "             dtype=path_type) #创建初始0矩阵         \n",
    "\n",
    "\n",
    "target = [[1,2],[0,2],[0,1],[1,2]]  # to do: 按照你的路径来创建 target\n",
    "for x, index in zip(target,path_type['names']):  # 按照经过路径赋1\n",
    "    Z[index][x] = 1\n",
    "\n",
    "Z['50001'] #根据上面的targe中的 target[0], 第一列也就是'50001'的第1行和第二行赋为1"
   ]
  },
  {
   "cell_type": "code",
   "execution_count": 143,
   "metadata": {},
   "outputs": [
    {
     "data": {
      "text/plain": [
       "array([0, 1])"
      ]
     },
     "execution_count": 143,
     "metadata": {},
     "output_type": "execute_result"
    }
   ],
   "source": [
    "Z['50001'][[0,2]]  # 索引 50001 列 的第0行和第2 行"
   ]
  },
  {
   "cell_type": "code",
   "execution_count": null,
   "metadata": {},
   "outputs": [],
   "source": [
    "\"\"\"\n",
    "more detail:\n",
    "https://docs.scipy.org/doc/numpy-1.13.0/user/basics.rec.html\n",
    "https://blog.csdn.net/qq_27825451/article/details/82425512\n",
    "\"\"\""
   ]
  }
 ],
 "metadata": {
  "kernelspec": {
   "display_name": "Python 3",
   "language": "python",
   "name": "python3"
  },
  "language_info": {
   "codemirror_mode": {
    "name": "ipython",
    "version": 3
   },
   "file_extension": ".py",
   "mimetype": "text/x-python",
   "name": "python",
   "nbconvert_exporter": "python",
   "pygments_lexer": "ipython3",
   "version": "3.7.3"
  }
 },
 "nbformat": 4,
 "nbformat_minor": 2
}
